{
 "cells": [
  {
   "cell_type": "code",
   "execution_count": 1,
   "id": "102ae64b",
   "metadata": {},
   "outputs": [],
   "source": [
    "import pandas as pd\n",
    "import numpy as np\n",
    "from scipy.stats import levene\n",
    "from scipy.stats import median_abs_deviation\n",
    "import statsmodels.stats.multitest as sm\n",
    "import matplotlib.pyplot as plt\n",
    "import seaborn as sns"
   ]
  },
  {
   "cell_type": "code",
   "execution_count": 67,
   "id": "f39a6d18",
   "metadata": {},
   "outputs": [],
   "source": [
    "# function for dataset loading and processing preparing\n",
    "\n",
    "def df_load(path, option, res_type='standard'):\n",
    "    df = pd.read_csv(path, sep='\\t')\n",
    "    params = ['TMV1.3']  # derive parameters names\n",
    "    if res_type == 'standard':  # derive residuals names\n",
    "        resids = ['1-st', '2-st', '3-st']  # filter first three\n",
    "    elif res_type == 'reduced':\n",
    "        resids = ['2-1', '3-1', '3-2']  # filter second three\n",
    "    new_df = pd.DataFrame(data=None, index=params, columns=resids)  # empty dataframe for filling\n",
    "    options = {'df': 0, 'params': 1, 'resids': 2, 'new_df': 3}\n",
    "    opt = [df, params, resids, new_df]\n",
    "    return opt[options.get(option)]"
   ]
  },
  {
   "cell_type": "code",
   "execution_count": 62,
   "id": "5d90afd2",
   "metadata": {},
   "outputs": [],
   "source": [
    "# function for computation of confidence intervals with bootstrap method\n",
    "# standard-to-reduced differences\n",
    "\n",
    "def bootstrap(path, moment, iterations, dig, type):\n",
    "\n",
    "    # dataframe loading\n",
    "    df, params, resids, bs_df = df_load(path, 'df', res_type='standard'), df_load(path, 'params'), \\\n",
    "                                 df_load(path, 'resids'), df_load(path, 'new_df')\n",
    "\n",
    "    # cut-off for extremal differences\n",
    "    mtv_ex1 = df[df['TMV1.3_1-st'] >= 100].loc[:, 'TMV1.3-st'].max()\n",
    "    mtv_ex2 = df[df['TMV1.3_2-st'] >= 100].loc[:, 'TMV1.3-st'].max()\n",
    "    mtv_ex3 = df[df['TMV1.3_3-st'] >= 100].loc[:, 'TMV1.3-st'].max()\n",
    "    mtv_ex = max([mtv_ex2, mtv_ex3])\n",
    "    df = df[df['TMV1.3-st'] > mtv_ex]\n",
    "    print(mtv_ex)\n",
    "\n",
    "    # dataframe filling\n",
    "    for p in params:\n",
    "        for r in resids:\n",
    "            col = df[p + '_' + r]\n",
    "            bs_moments = []\n",
    "            for _ in range(iterations):\n",
    "                smpl = np.random.choice(col, size=len(col), replace=True)\n",
    "                if moment == 'mean':\n",
    "                    bs_moments.append(np.mean(smpl))\n",
    "                elif moment == 'sd':\n",
    "                    bs_moments.append(np.std(smpl))\n",
    "                elif moment == 'loa':  # single limit of agreement\n",
    "                    bs_moments.append(np.std(smpl) * 1.96)\n",
    "                else:\n",
    "                    print('please enter the allowable stat measure: mean, sd or loa')\n",
    "                    break\n",
    "\n",
    "            # histograms plotting for all parameters\n",
    "            plt.hist(bs_moments)\n",
    "            plt.savefig(p + '_' + r + '_' + moment + '_hist.png')\n",
    "            plt.clf()\n",
    "\n",
    "            # multiple hypothesis adjust\n",
    "            adj_per = round(2.5 / (len(params) * len(resids)), 3)\n",
    "\n",
    "            # dataframe with means and adjusted for p*r multiple hypotheses percentilles\n",
    "            if type == 'txt':\n",
    "                bs_df[r][p] = str(round(np.mean(bs_moments), dig)) + '(' + \\\n",
    "                          str(round(np.percentile(bs_moments, adj_per), dig)) + '–' +\\\n",
    "                          str(round(np.percentile(bs_moments, 100 - adj_per), dig)) + ')'\n",
    "            elif type == 'num':\n",
    "                bs_df[r][p] = [round(np.mean(bs_moments), dig),\n",
    "                               round(np.percentile(bs_moments, adj_per), dig),\n",
    "                               round(np.percentile(bs_moments, 100 - adj_per), dig)]\n",
    "    return bs_df"
   ]
  },
  {
   "cell_type": "code",
   "execution_count": 77,
   "id": "c5e273f0",
   "metadata": {},
   "outputs": [],
   "source": [
    "# function for computation of confidence intervals with bootstrap method\n",
    "# reduced differences\n",
    "\n",
    "def bootstrap_red(path, moment, iterations, dig, type):\n",
    "\n",
    "    # dataframe loading\n",
    "    df, params, resids, bs_df = df_load(path, 'df', res_type='reduced'), \\\n",
    "                                df_load(path, 'params', res_type='reduced'), \\\n",
    "                                df_load(path, 'resids', res_type='reduced'), \\\n",
    "                                df_load(path, 'new_df', res_type='reduced')\n",
    "\n",
    "    # cut-off for extremal differences\n",
    "    mtv_ex1 = df[df['TMV1.3_2-1'] >= 100].loc[:, 'TMV1.3-1'].max()\n",
    "    mtv_ex2 = df[df['TMV1.3_3-1'] >= 100].loc[:, 'TMV1.3-1'].max()\n",
    "    mtv_ex3 = df[df['TMV1.3_3-2'] >= 100].loc[:, 'TMV1.3-1'].max()\n",
    "    mtv_ex = max([mtv_ex1, mtv_ex2, mtv_ex3])\n",
    "    df = df[df['TMV1.3-1'] > mtv_ex]\n",
    "    print(mtv_ex)\n",
    "\n",
    "    # dataframe filling\n",
    "    for p in params:\n",
    "        for r in resids:\n",
    "            col = df[p + '_' + r]\n",
    "            bs_moments = []\n",
    "            for _ in range(iterations):\n",
    "                smpl = np.random.choice(col, size=len(col), replace=True)\n",
    "                if moment == 'mean':\n",
    "                    bs_moments.append(np.mean(smpl))\n",
    "                elif moment == 'sd':\n",
    "                    bs_moments.append(np.std(smpl))\n",
    "                elif moment == 'loa':  # single limit of agreement\n",
    "                    bs_moments.append(np.std(smpl) * 1.96)\n",
    "                else:\n",
    "                    print('please enter the allowable stat measure: mean, sd or loa')\n",
    "                    break\n",
    "\n",
    "            # histograms plotting for all parameters\n",
    "            plt.hist(bs_moments)\n",
    "            plt.savefig(p + '_' + r + '_' + moment + '_hist.png')\n",
    "            plt.clf()\n",
    "\n",
    "            # multiple hypothesis adjust\n",
    "            adj_per = round(2.5 / (len(params) * len(resids)), 3)\n",
    "\n",
    "            # dataframe with means and adjusted for p*r multiple hypotheses percentilles\n",
    "            if type == 'txt':\n",
    "                bs_df[r][p] = str(round(np.mean(bs_moments), dig)) + '(' + \\\n",
    "                          str(round(np.percentile(bs_moments, adj_per), dig)) + '–' +\\\n",
    "                          str(round(np.percentile(bs_moments, 100 - adj_per), dig)) + ')'\n",
    "            elif type == 'num':\n",
    "                bs_df[r][p] = [round(np.mean(bs_moments), dig),\n",
    "                               round(np.percentile(bs_moments, adj_per), dig),\n",
    "                               round(np.percentile(bs_moments, 100 - adj_per), dig)]\n",
    "    return bs_df"
   ]
  },
  {
   "cell_type": "code",
   "execution_count": 78,
   "id": "97d6b447",
   "metadata": {},
   "outputs": [],
   "source": [
    "# function for limits of agreement computation and text representation\n",
    "\n",
    "def loas(mean_df, loa_df, dig=2):\n",
    "    loas_df = pd.DataFrame(data=None, index=mean_df.index, columns=mean_df.columns)\n",
    "    for i in mean_df.index:\n",
    "        for c in mean_df.columns:\n",
    "            loas_df[c][i] = str(round(mean_df[c][i][0] - loa_df[c][i][2], dig)) + '–' + \\\n",
    "                            str(round(mean_df[c][i][0] + loa_df[c][i][2], dig))\n",
    "    return loas_df"
   ]
  },
  {
   "cell_type": "code",
   "execution_count": 26,
   "id": "d24ba426",
   "metadata": {},
   "outputs": [],
   "source": [
    "def boxplot(path):\n",
    "    sns.set_theme(style=\"ticks\")\n",
    "    f, ax = plt.subplots(figsize=(8, 10))  # Initialize the figure\n",
    "\n",
    "    # load dataframe\n",
    "    df, params, resids = df_load(path, 'df'), df_load(path, 'params'), \\\n",
    "                                df_load(path, 'resids')\n",
    "    param_list = [df.columns[i] for i in range(1, len(df.columns)) if i % 6 in [4, 5, 0]]\n",
    "\n",
    "    # Plot with horizontal boxes\n",
    "    sns.boxplot(data=df[param_list[:-3]], orient='h', dodge=False, whis=[2.5, 97.5], width=.6, palette=\"vlag\")\n",
    "\n",
    "    # Add in points to show each observation\n",
    "    sns.stripplot(data=df[param_list[:-3]], orient='h', size=3, color=\".3\", linewidth=0)\n",
    "\n",
    "    # Tweak the visual presentation\n",
    "    plt.grid(True)\n",
    "    # plt.xticks(range(-20, 50, 10), rotation=0)  # variant for relative SUVs and TBRs\n",
    "    # plt.xticks(range(-100, 200, 50), rotation=0)  # variant for relative MTV\n",
    "    ax.set(ylabel=\"\")\n",
    "    sns.despine(trim=True, left=True)\n",
    "    plt.show()"
   ]
  },
  {
   "cell_type": "code",
   "execution_count": 32,
   "id": "9d59c06f",
   "metadata": {},
   "outputs": [],
   "source": [
    "folder = 'C:/Kotomin/Globalall/Methionine_dyn/01_Intervals/csv/'\n",
    "file1 = 'residuals.csv'\n",
    "file2 = 'relative_residuals.csv'\n",
    "file3 = 'intervals-rel_residuals.csv'"
   ]
  },
  {
   "cell_type": "markdown",
   "id": "b603f44d",
   "metadata": {},
   "source": [
    "Standard (20 min) versus three reduced (10 min) intervals"
   ]
  },
  {
   "cell_type": "code",
   "execution_count": 81,
   "id": "585e627b",
   "metadata": {},
   "outputs": [
    {
     "name": "stdout",
     "output_type": "stream",
     "text": [
      "1.9\n",
      "1.9\n"
     ]
    },
    {
     "data": {
      "text/plain": [
       "<Figure size 640x480 with 0 Axes>"
      ]
     },
     "metadata": {},
     "output_type": "display_data"
    }
   ],
   "source": [
    "# standard-to-reduced\n",
    "\n",
    "rel_res_ci95_df, rel_res_loa_ci95_df = bootstrap(folder + file3, 'mean', 1000, 1, 'num'), \\\n",
    "                                       bootstrap(folder + file3, 'loa', 1000, 1, 'num')\n",
    "rel_res_loas_df = loas(rel_res_ci95_df, rel_res_loa_ci95_df, 1)"
   ]
  },
  {
   "cell_type": "code",
   "execution_count": 82,
   "id": "30bc6239",
   "metadata": {},
   "outputs": [],
   "source": [
    "rel_res_ci95_df.to_csv('rel_residuals_ci95.csv', sep='\\t')  # Mean and CI95 for relative residuals\n",
    "rel_res_loas_df.to_csv('rel_residuals_LoA.csv', sep='\\t')  # LoAs for relative residuals"
   ]
  },
  {
   "cell_type": "markdown",
   "id": "79066c93",
   "metadata": {},
   "source": [
    "Differenced between three reduced interval "
   ]
  },
  {
   "cell_type": "code",
   "execution_count": 79,
   "id": "b98386c5",
   "metadata": {},
   "outputs": [
    {
     "name": "stdout",
     "output_type": "stream",
     "text": [
      "1.82\n",
      "1.82\n"
     ]
    },
    {
     "data": {
      "text/plain": [
       "<Figure size 640x480 with 0 Axes>"
      ]
     },
     "metadata": {},
     "output_type": "display_data"
    }
   ],
   "source": [
    "# reduced\n",
    "\n",
    "rel_res_ci95_df, rel_res_loa_ci95_df = bootstrap_red(folder + file3, 'mean', 1000, 1, 'num'), \\\n",
    "                                       bootstrap_red(folder + file3, 'loa', 1000, 1, 'num')\n",
    "rel_res_loas_df = loas(rel_res_ci95_df, rel_res_loa_ci95_df, 1)"
   ]
  },
  {
   "cell_type": "code",
   "execution_count": 80,
   "id": "97b30db9",
   "metadata": {},
   "outputs": [],
   "source": [
    "rel_res_ci95_df.to_csv('rel_residuals_ci95.csv', sep='\\t')  # Mean and CI95 for relative residuals\n",
    "rel_res_loas_df.to_csv('rel_residuals_LoA.csv', sep='\\t')  # LoAs for relative residuals"
   ]
  },
  {
   "cell_type": "code",
   "execution_count": null,
   "id": "2ab9cbe2",
   "metadata": {},
   "outputs": [],
   "source": []
  }
 ],
 "metadata": {
  "kernelspec": {
   "display_name": "Python 3 (ipykernel)",
   "language": "python",
   "name": "python3"
  },
  "language_info": {
   "codemirror_mode": {
    "name": "ipython",
    "version": 3
   },
   "file_extension": ".py",
   "mimetype": "text/x-python",
   "name": "python",
   "nbconvert_exporter": "python",
   "pygments_lexer": "ipython3",
   "version": "3.8.8"
  }
 },
 "nbformat": 4,
 "nbformat_minor": 5
}
